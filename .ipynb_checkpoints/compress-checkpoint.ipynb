{
 "cells": [
  {
   "cell_type": "code",
   "execution_count": 8,
   "id": "6f9eb91e-b27e-42de-b1f4-5f48e2cd5c05",
   "metadata": {},
   "outputs": [
    {
     "data": {
      "text/plain": [
       "'/home/jovyan/work/Documents/CASA/fsds/013_assignment2'"
      ]
     },
     "execution_count": 8,
     "metadata": {},
     "output_type": "execute_result"
    }
   ],
   "source": [
    "pwd"
   ]
  },
  {
   "cell_type": "code",
   "execution_count": 9,
   "id": "4ea33347-454a-4ba2-b25e-ba862ec90bc3",
   "metadata": {},
   "outputs": [
    {
     "name": "stdout",
     "output_type": "stream",
     "text": [
      "File \"/home/jovyan/work/Documents/CASA/fsds/013_assignment2/20230918_listings.csv\" compressed to \"/home/jovyan/work/Documents/CASA/fsds/013_assignment2/20230918_listings.csv.gz\"\n"
     ]
    }
   ],
   "source": [
    "import gzip\n",
    "import shutil\n",
    "\n",
    "input_file = '/home/jovyan/work/Documents/CASA/fsds/013_assignment2/20230918_listings.csv'\n",
    "output_file = '/home/jovyan/work/Documents/CASA/fsds/013_assignment2/20230918_listings.csv.gz'\n",
    "\n",
    "\n",
    "with open(input_file, 'rb') as f_in, gzip.open(output_file, 'wb') as f_out:\n",
    "    shutil.copyfileobj(f_in, f_out)\n",
    "\n",
    "print(f'File \"{input_file}\" compressed to \"{output_file}\"')"
   ]
  },
  {
   "cell_type": "code",
   "execution_count": null,
   "id": "f406ebe1-55a7-4d9a-aab2-d7a5c6a10297",
   "metadata": {},
   "outputs": [],
   "source": []
  }
 ],
 "metadata": {
  "kernelspec": {
   "display_name": "Python 3 (ipykernel)",
   "language": "python",
   "name": "python3"
  },
  "language_info": {
   "codemirror_mode": {
    "name": "ipython",
    "version": 3
   },
   "file_extension": ".py",
   "mimetype": "text/x-python",
   "name": "python",
   "nbconvert_exporter": "python",
   "pygments_lexer": "ipython3",
   "version": "3.11.5"
  }
 },
 "nbformat": 4,
 "nbformat_minor": 5
}
